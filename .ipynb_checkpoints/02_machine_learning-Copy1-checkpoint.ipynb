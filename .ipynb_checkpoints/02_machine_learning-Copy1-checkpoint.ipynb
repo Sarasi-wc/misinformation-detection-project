{
 "cells": [
  {
   "cell_type": "code",
   "execution_count": 1,
   "id": "ead58d63-986f-4ea9-990c-6a1fb3d16b73",
   "metadata": {},
   "outputs": [
    {
     "name": "stdout",
     "output_type": "stream",
     "text": [
      "✓ Machine learning libraries imported!\n"
     ]
    }
   ],
   "source": [
    "# Import machine learning libraries\n",
    "import os\n",
    "import warnings\n",
    "warnings.filterwarnings(\"ignore\")\n",
    "\n",
    "import pandas as pd\n",
    "import numpy as np\n",
    "\n",
    "from sklearn.model_selection import train_test_split\n",
    "from sklearn.feature_extraction.text import TfidfVectorizer\n",
    "\n",
    "from sklearn.ensemble import RandomForestClassifier\n",
    "from sklearn.linear_model import LogisticRegression\n",
    "from sklearn.svm import SVC\n",
    "\n",
    "from sklearn.metrics import (\n",
    "    accuracy_score, precision_score, recall_score, f1_score, roc_auc_score\n",
    ")\n",
    "\n",
    "import matplotlib.pyplot as plt\n",
    "import seaborn as sns\n",
    "sns.set(context=\"notebook\", style=\"whitegrid\")\n",
    "\n",
    "import time\n",
    "from joblib import Parallel, delayed\n",
    "from sklearn.base import clone\n",
    "\n",
    "# Ensure output folders exist\n",
    "os.makedirs('../results/visualizations', exist_ok=True)\n",
    "\n",
    "print(\"✓ Machine learning libraries imported!\")\n"
   ]
  },
  {
   "cell_type": "code",
   "execution_count": 2,
   "id": "5cb805cd-5b3e-4231-8fca-b953f6398872",
   "metadata": {},
   "outputs": [
    {
     "name": "stdout",
     "output_type": "stream",
     "text": [
      "✓ Loaded dataset: (92394, 4)\n",
      "✓ Text samples: 92394\n",
      "✓ Labels: 92394\n"
     ]
    }
   ],
   "source": [
    "# Load the data we saved from the previous notebook\n",
    "data_path = '../data/processed/misinformation_dataset.csv'\n",
    "assert os.path.exists(data_path), f\"File not found: {data_path}\"\n",
    "\n",
    "df = pd.read_csv(data_path)\n",
    "print(f\"✓ Loaded dataset: {df.shape}\")\n",
    "\n",
    "# Basic sanity\n",
    "assert 'text' in df.columns and 'label' in df.columns, \"Expected columns: 'text', 'label'\"\n",
    "\n",
    "# Prepare the data for machine learning\n",
    "X_text = df['text'].fillna('')         # defensive: no NaNs\n",
    "y = df['label']\n",
    "\n",
    "# If labels are strings like {\"real\",\"misinfo\"}, map to {0,1}\n",
    "if y.dtype == object:\n",
    "    mapping = {v:i for i, v in enumerate(sorted(df['label'].unique()))}\n",
    "    print(\"Label mapping:\", mapping)\n",
    "    y = y.map(mapping)\n",
    "\n",
    "print(f\"✓ Text samples: {len(X_text)}\")\n",
    "print(f\"✓ Labels: {len(y)}\")\n"
   ]
  },
  {
   "cell_type": "code",
   "execution_count": 3,
   "id": "0514d6c5-5291-433b-9198-77a5e738b760",
   "metadata": {},
   "outputs": [
    {
     "name": "stdout",
     "output_type": "stream",
     "text": [
      "Converting text to numbers...\n",
      "✓ Feature matrix shape: (92394, 20000)\n",
      "✓ Text converted to numerical features\n",
      "✓ Training set: 73915 samples\n",
      "✓ Test set: 18479 samples\n"
     ]
    }
   ],
   "source": [
    "# Convert text to numbers using TF-IDF\n",
    "print(\"Converting text to numbers...\")\n",
    "\n",
    "vectorizer = TfidfVectorizer(\n",
    "    ngram_range=(1,3),\n",
    "    max_features=20_000,\n",
    "    min_df=2,\n",
    "    stop_words=\"english\",\n",
    "    sublinear_tf=True,\n",
    "    strip_accents=\"unicode\",\n",
    "    dtype=np.float32 \n",
    ")\n",
    "\n",
    "X = vectorizer.fit_transform(X_text)\n",
    "\n",
    "print(f\"✓ Feature matrix shape: {X.shape}\")\n",
    "print(\"✓ Text converted to numerical features\")\n",
    "\n",
    "# Split data into training and testing sets (stratify for label balance)\n",
    "X_train, X_test, y_train, y_test = train_test_split(\n",
    "    X, y, test_size=0.20, random_state=42, stratify=y\n",
    ")\n",
    "print(f\"✓ Training set: {X_train.shape[0]} samples\")\n",
    "print(f\"✓ Test set: {X_test.shape[0]} samples\")\n"
   ]
  },
  {
   "cell_type": "code",
   "execution_count": 4,
   "id": "90b8cba4-1741-4670-b224-8d8f193b07f3",
   "metadata": {},
   "outputs": [
    {
     "name": "stdout",
     "output_type": "stream",
     "text": [
      "✓ Defined 3 models to compare\n"
     ]
    }
   ],
   "source": [
    "from sklearn.linear_model import LogisticRegression\n",
    "from sklearn.svm import LinearSVC\n",
    "from sklearn.linear_model import SGDClassifier\n",
    "\n",
    "# Define different machine learning models to compare\n",
    "models = {\n",
    "    'Logistic Regression': LogisticRegression(\n",
    "        class_weight=\"balanced\",\n",
    "        solver=\"liblinear\",\n",
    "        max_iter=1000,\n",
    "        random_state=42\n",
    "    ),\n",
    "    'Random Forest': RandomForestClassifier(\n",
    "        n_estimators=50,\n",
    "        random_state=42,\n",
    "        n_jobs=-1\n",
    "    ),\n",
    "    # NOTE: RBF SVM with probability=True is accurate but slow on large sparse text.\n",
    "    # Used for  comparison, commented because taking longer runtime.\n",
    "    # 'SVM (RBF)': SVC(kernel='rbf', probability=True, random_state=42)\n",
    "\n",
    "    'Linear SVM': LinearSVC(\n",
    "        class_weight=\"balanced\",\n",
    "        random_state=42\n",
    "    ),\n",
    "}\n",
    "\n",
    "print(f\"✓ Defined {len(models)} models to compare\")\n"
   ]
  },
  {
   "cell_type": "code",
   "execution_count": 5,
   "id": "41331911-7358-4443-b53c-ba98d60d8a10",
   "metadata": {},
   "outputs": [
    {
     "name": "stdout",
     "output_type": "stream",
     "text": [
      "Training models...\n",
      "\n",
      "Training Logistic Regression...\n",
      "✓ Logistic Regression: Acc=0.970, Macro-F1=0.968, ROC-AUC=0.994, PR-AUC=0.987\n",
      "\n",
      "Training Random Forest...\n",
      "✓ Random Forest: Acc=0.972, Macro-F1=0.970, ROC-AUC=0.994, PR-AUC=0.984\n",
      "\n",
      "Training Linear SVM...\n",
      "✓ Linear SVM: Acc=0.973, Macro-F1=0.970, ROC-AUC=0.995, PR-AUC=0.989\n",
      "\n",
      "✓ All models trained successfully!\n"
     ]
    }
   ],
   "source": [
    "# Standard library\n",
    "import time\n",
    "from sklearn.metrics import (\n",
    "    accuracy_score, precision_score, recall_score, f1_score, roc_auc_score,\n",
    "    average_precision_score, precision_recall_curve   # <-- add these two\n",
    ")\n",
    "\n",
    "# Third-party\n",
    "import numpy as np\n",
    "from sklearn.metrics import (\n",
    "    accuracy_score, precision_score, recall_score, f1_score, roc_auc_score\n",
    ")\n",
    "\n",
    "def _get_continuous_scores(model, X):\n",
    "    \"\"\"Prefer predict_proba; fall back to decision_function.\"\"\"\n",
    "    if hasattr(model, \"predict_proba\"):\n",
    "        try:\n",
    "            return model.predict_proba(X)\n",
    "        except Exception:\n",
    "            pass\n",
    "    if hasattr(model, \"decision_function\"):\n",
    "        try:\n",
    "            return model.decision_function(X)\n",
    "        except Exception:\n",
    "            pass\n",
    "    return None\n",
    "\n",
    "def _safe_roc_auc(y_true, scores):\n",
    "    \"\"\"Binary or multiclass AUC; returns None if not computable.\"\"\"\n",
    "    if scores is None:\n",
    "        return None\n",
    "    y_true = np.asarray(y_true)\n",
    "    classes = np.unique(y_true)\n",
    "    n_classes = len(classes)\n",
    "\n",
    "    # Binary\n",
    "    if n_classes == 2:\n",
    "        if getattr(scores, \"ndim\", 1) == 2 and scores.shape[1] == 2:\n",
    "            return roc_auc_score(y_true, scores[:, 1])\n",
    "        if getattr(scores, \"ndim\", 1) == 1:\n",
    "            return roc_auc_score(y_true, scores)\n",
    "        return None\n",
    "\n",
    "    # Multiclass (One-vs-Rest)\n",
    "    if getattr(scores, \"ndim\", 1) == 2 and scores.shape[1] >= n_classes:\n",
    "        return roc_auc_score(y_true, scores, multi_class=\"ovr\", average=\"weighted\")\n",
    "    return None\n",
    "\n",
    "# ---- Train & evaluate all models (with ROC-AUC when available) ----\n",
    "results = {}\n",
    "print(\"Training models...\")\n",
    "\n",
    "for name, model in models.items():\n",
    "    print(f\"\\nTraining {name}...\")\n",
    "    start_time = time.time()\n",
    "\n",
    "    model.fit(X_train, y_train)\n",
    "    y_pred = model.predict(X_test)\n",
    "\n",
    "    accuracy = accuracy_score(y_test, y_pred)\n",
    "    precision = precision_score(y_test, y_pred, average='macro', zero_division=0)\n",
    "    recall    = recall_score(y_test, y_pred,    average='macro', zero_division=0)\n",
    "    f1        = f1_score(y_test, y_pred,        average='macro', zero_division=0)\n",
    "\n",
    "    scores = _get_continuous_scores(model, X_test)\n",
    "    roc_auc = _safe_roc_auc(y_test, scores)\n",
    "\n",
    "    pr_auc = None\n",
    "    if scores is not None:\n",
    "        if hasattr(model, \"predict_proba\") and scores.ndim == 2:\n",
    "            # positive class probability\n",
    "            pos_scores = scores[:, 1]\n",
    "            pr_auc = average_precision_score(y_test, pos_scores)\n",
    "        elif scores is not None and getattr(scores, \"ndim\", 1) == 1:\n",
    "            pr_auc = average_precision_score(y_test, scores)\n",
    "\n",
    "    training_time = time.time() - start_time\n",
    "\n",
    "    results[name] = {\n",
    "        'accuracy': accuracy,\n",
    "        'precision': precision,\n",
    "        'recall': recall,\n",
    "        'f1_score': f1,\n",
    "        'roc_auc': roc_auc,\n",
    "        'pr_auc': pr_auc,\n",
    "        'training_time': training_time\n",
    "    }\n",
    "\n",
    "    msg = f\"✓ {name}: Acc={accuracy:.3f}, Macro-F1={f1:.3f}\"\n",
    "    if roc_auc is not None:\n",
    "        msg += f\", ROC-AUC={roc_auc:.3f}\"\n",
    "    if pr_auc is not None:\n",
    "        msg += f\", PR-AUC={pr_auc:.3f}\"\n",
    "    print(msg)\n",
    "\n",
    "print(\"\\n✓ All models trained successfully!\")\n"
   ]
  },
  {
   "cell_type": "code",
   "execution_count": 7,
   "id": "4b46d7ef-3eb3-48fb-bca9-36da2a3f8b4a",
   "metadata": {},
   "outputs": [
    {
     "name": "stdout",
     "output_type": "stream",
     "text": [
      "=== MODEL COMPARISON RESULTS ===\n",
      "                     accuracy  precision  recall  f1_score  roc_auc  pr_auc  \\\n",
      "Logistic Regression    0.9702     0.9622  0.9738    0.9675   0.9943  0.9869   \n",
      "Random Forest          0.9725     0.9677  0.9719    0.9698   0.9937  0.9841   \n",
      "Linear SVM             0.9728     0.9665  0.9744    0.9702   0.9946  0.9886   \n",
      "\n",
      "                     training_time  \n",
      "Logistic Regression         1.8603  \n",
      "Random Forest              43.1891  \n",
      "Linear SVM                  3.8320  \n",
      "                     accuracy  precision  recall  f1_score  roc_auc  pr_auc  \\\n",
      "Linear SVM             0.9728     0.9665  0.9744    0.9702   0.9946  0.9886   \n",
      "Random Forest          0.9725     0.9677  0.9719    0.9698   0.9937  0.9841   \n",
      "Logistic Regression    0.9702     0.9622  0.9738    0.9675   0.9943  0.9869   \n",
      "\n",
      "                     training_time  \n",
      "Linear SVM                  3.8320  \n",
      "Random Forest              43.1891  \n",
      "Logistic Regression         1.8603  \n",
      "\n",
      "🏆 Best Model: Linear SVM\n",
      "🎯 Best F1-Score: 0.9702\n"
     ]
    }
   ],
   "source": [
    "# Create a results table\n",
    "results_df = pd.DataFrame(results).T\n",
    "print(\"=== MODEL COMPARISON RESULTS ===\")\n",
    "print(results_df.round(4))\n",
    "\n",
    "# Sort the results by f1_score and pr_auc\n",
    "sorted_results = results_df.sort_values(by=['f1_score','pr_auc'], ascending=False).round(4)\n",
    "print(sorted_results)\n",
    "\n",
    "# Get the name of the best model (index of the first row after sorting)\n",
    "best_model = sorted_results.index[0]\n",
    "best_score = results_df.loc[best_model, 'f1_score']\n",
    "\n",
    "print(f\"\\n🏆 Best Model: {best_model}\")\n",
    "print(f\"🎯 Best F1-Score: {best_score:.4f}\")"
   ]
  },
  {
   "cell_type": "code",
   "execution_count": 8,
   "id": "88d81411-f3c0-41df-adda-4af28c292ff2",
   "metadata": {},
   "outputs": [
    {
     "data": {
      "image/png": "[encoded data removed]",
      "text/plain": [
       "<Figure size 1500x500 with 2 Axes>"
      ]
     },
     "metadata": {},
     "output_type": "display_data"
    },
    {
     "name": "stdout",
     "output_type": "stream",
     "text": [
      "✓ Visualizations created and saved: ../results/visualizations/model_comparison.png\n"
     ]
    }
   ],
   "source": [
    "# Create visualizations\n",
    "fig, axes = plt.subplots(1, 2, figsize=(15, 5))\n",
    "\n",
    "# 1. Performance comparison chart\n",
    "results_df[['accuracy', 'precision', 'recall', 'f1_score']].plot(kind='bar', ax=axes[0])\n",
    "axes[0].set_title('Model Performance Comparison')\n",
    "axes[0].set_ylabel('Score')\n",
    "axes[0].legend()\n",
    "axes[0].tick_params(axis='x', rotation=45)\n",
    "\n",
    "# 2. Training time comparison\n",
    "results_df['training_time'].plot(kind='bar', ax=axes[1], color='orange')\n",
    "axes[1].set_title('Training Time Comparison')\n",
    "axes[1].set_ylabel('Time (seconds)')\n",
    "axes[1].tick_params(axis='x', rotation=45)\n",
    "\n",
    "plt.tight_layout()\n",
    "os.makedirs('../results/visualizations', exist_ok=True)\n",
    "plt.savefig('../results/visualizations/model_comparison.png', dpi=300, bbox_inches='tight')\n",
    "plt.show()\n",
    "\n",
    "print(\"✓ Visualizations created and saved: ../results/visualizations/model_comparison.png\")\n"
   ]
  },
  {
   "cell_type": "code",
   "execution_count": 9,
   "id": "de08ebd7-e97f-4f18-9a65-69f70c74b8f9",
   "metadata": {},
   "outputs": [
    {
     "name": "stdout",
     "output_type": "stream",
     "text": [
      "✓ Results saved to ../results/model_results.json\n",
      "✓ Results table saved to ../results/model_comparison.csv\n",
      "\n",
      "🎉 MACHINE LEARNING ANALYSIS COMPLETE!\n",
      "📊 Best performing model: Linear SVM\n",
      "📁 All results saved to ../results/ folder\n"
     ]
    }
   ],
   "source": [
    "# Save all results\n",
    "import json\n",
    "os.makedirs('../results', exist_ok=True)\n",
    "\n",
    "# Save results to JSON file (handle None for roc_auc)\n",
    "results_for_json = {}\n",
    "for model_name, metrics in results.items():\n",
    "    clean = {}\n",
    "    for k, v in metrics.items():\n",
    "        if v is None:\n",
    "            clean[k] = None\n",
    "        else:\n",
    "            clean[k] = float(v)\n",
    "    results_for_json[model_name] = clean\n",
    "\n",
    "with open('../results/model_results.json', 'w') as f:\n",
    "    json.dump(results_for_json, f, indent=2)\n",
    "print(\"✓ Results saved to ../results/model_results.json\")\n",
    "\n",
    "# Save the results table as CSV\n",
    "results_df.to_csv('../results/model_comparison.csv')\n",
    "print(\"✓ Results table saved to ../results/model_comparison.csv\")\n",
    "\n",
    "print(\"\\n🎉 MACHINE LEARNING ANALYSIS COMPLETE!\")\n",
    "print(f\"📊 Best performing model: {best_model}\")\n",
    "print(f\"📁 All results saved to ../results/ folder\")\n"
   ]
  }
 ],
 "metadata": {
  "kernelspec": {
   "display_name": "Python [conda env:base] *",
   "language": "python",
   "name": "conda-base-py"
  },
  "language_info": {
   "codemirror_mode": {
    "name": "ipython",
    "version": 3
   },
   "file_extension": ".py",
   "mimetype": "text/x-python",
   "name": "python",
   "nbconvert_exporter": "python",
   "pygments_lexer": "ipython3",
   "version": "3.11.11"
  }
 },
 "nbformat": 4,
 "nbformat_minor": 5
}
