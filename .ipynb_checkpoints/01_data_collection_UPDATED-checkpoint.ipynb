{
 "cells": [
  {
   "cell_type": "code",
   "execution_count": null,
   "id": "f8dac275",
   "metadata": {},
   "outputs": [],
   "source": [
    "# Auto-save figures & tables helper (added by assistant)\n",
    "import notebook_utils as nbx\n",
    "nbx.enable_autosave_plots(prefix='01_data_collection')\n",
    "# Use nbx.save_dataframe_preview(df, 'dataset_head') wherever you show tables\n"
   ]
  },
  {
   "cell_type": "code",
   "execution_count": 1,
   "id": "c1a6545d-d96f-47ac-8449-5e851c370f36",
   "metadata": {},
   "outputs": [
    {
     "name": "stdout",
     "output_type": "stream",
     "text": [
      "✓ Basic libraries imported successfully!\n"
     ]
    }
   ],
   "source": [
    "# Install and import basic libraries\n",
    "import os\n",
    "import pandas as pd\n",
    "import numpy as np\n",
    "import matplotlib.pyplot as plt\n",
    "import seaborn as sns\n",
    "import warnings\n",
    "\n",
    "warnings.filterwarnings('ignore')\n",
    "\n",
    "print(\"✓ Basic libraries imported successfully!\")"
   ]
  },
  {
   "cell_type": "code",
   "execution_count": 2,
   "id": "43c6bd06-d78f-4f03-9107-7c042a989992",
   "metadata": {},
   "outputs": [
    {
     "name": "stdout",
     "output_type": "stream",
     "text": [
      "✓ Real dataset loaded successfully!\n",
      "Dataset shape: (92394, 4)\n",
      "Columns: ['Unnamed: 0.1', 'Unnamed: 0', 'text', 'label']\n"
     ]
    }
   ],
   "source": [
    "# Try to load a real dataset, or create a sample one\n",
    "\n",
    "# datasets_info = {\n",
    "#         'twitter': 'roupenminassian/twitter-misinformation',\n",
    "#         'health': 'ClassyB/Health_Misinformation',\n",
    "#         'multi_event': 'ctoraman/misinformation-detection-tweets', \n",
    "#         'general': 'daviddaubner/misinformation-detection'\n",
    "#     }\n",
    "\n",
    "try:\n",
    "    from datasets import load_dataset\n",
    "    # Load a misinformation dataset\n",
    "    dataset = load_dataset(\"roupenminassian/twitter-misinformation\")\n",
    "    df = dataset['train'].to_pandas()\n",
    "    print(\"✓ Real dataset loaded successfully!\")\n",
    "    print(f\"Dataset shape: {df.shape}\")\n",
    "    print(f\"Columns: {list(df.columns)}\")\n",
    "except:\n",
    "    # If the real dataset doesn't work, create a sample dataset\n",
    "    print(\"Creating sample dataset for demonstration...\")\n",
    "    df = pd.DataFrame({\n",
    "        'text': [\n",
    "            \"Breaking: New miracle cure discovered by scientists\",\n",
    "            \"Weather forecast shows sunny skies tomorrow\",\n",
    "            \"FAKE: Aliens have landed in Nevada desert\",\n",
    "            \"Stock market closes up 2% on positive earnings\",\n",
    "            \"Unverified claim about celebrity scandal\",\n",
    "            \"Scientists confirm climate change effects\",\n",
    "            \"False information about vaccine side effects\",\n",
    "            \"Local sports team wins championship game\",\n",
    "            \"Misleading article about economic policies\",\n",
    "            \"Factual report on new technology breakthrough\"\n",
    "        ] * 50,  # Repeat to get 500 samples\n",
    "        'label': [1, 0, 1, 0, 1, 0, 1, 0, 1, 0] * 50,  # 1=misinformation, 0=real\n",
    "        'source': ['twitter'] * 500\n",
    "    })\n",
    "    print(\"✓ Sample dataset created for demonstration\")\n",
    "    print(f\"Dataset shape: {df.shape}\")"
   ]
  },
  {
   "cell_type": "code",
   "execution_count": 3,
   "id": "98884c40-2881-487e-ab4f-465679e990d6",
   "metadata": {},
   "outputs": [
    {
     "name": "stdout",
     "output_type": "stream",
     "text": [
      "=== DATA EXPLORATION ===\n",
      "Total samples: 92394\n",
      "Columns: ['Unnamed: 0.1', 'Unnamed: 0', 'text', 'label']\n",
      "\n",
      "First 5 rows:\n",
      "   Unnamed: 0.1  Unnamed: 0  \\\n",
      "0         34366       34366   \n",
      "1         41656       41656   \n",
      "2         26726       26726   \n",
      "3         81585       81585   \n",
      "4          4016        4016   \n",
      "\n",
      "                                                text  label  \n",
      "0  Local Charlotte, NC news station WSOCTV is rep...      1  \n",
      "1  The tsunami has started President Obama s Keny...      1  \n",
      "2  The only reality show Donald Trump should have...      1  \n",
      "3  No Food, No FEMA: Hurricane Michael’s Survivor...      0  \n",
      "4  WASHINGTON (Reuters) - Here are some of the hi...      0  \n",
      "\n",
      "Label distribution:\n",
      "label\n",
      "0    60309\n",
      "1    32085\n",
      "Name: count, dtype: int64\n"
     ]
    },
    {
     "data": {
      "image/png": "[encoded data removed]",
      "text/plain": [
       "<Figure size 800x500 with 1 Axes>"
      ]
     },
     "metadata": {},
     "output_type": "display_data"
    },
    {
     "name": "stdout",
     "output_type": "stream",
     "text": [
      "✓ Data exploration completed\n"
     ]
    }
   ],
   "source": [
    "# Explore the data\n",
    "print(\"=== DATA EXPLORATION ===\")\n",
    "print(f\"Total samples: {len(df)}\")\n",
    "print(f\"Columns: {list(df.columns)}\")\n",
    "print(\"\\nFirst 5 rows:\")\n",
    "print(df.head())\n",
    "\n",
    "print(\"\\nLabel distribution:\")\n",
    "print(df['label'].value_counts())\n",
    "\n",
    "# Create a simple visualization\n",
    "plt.figure(figsize=(8, 5))\n",
    "df['label'].value_counts().plot(kind='bar')\n",
    "plt.title('Distribution of Real vs Misinformation')\n",
    "plt.xlabel('Label (0=Real, 1=Misinformation)')\n",
    "plt.ylabel('Count')\n",
    "plt.xticks([0, 1], ['Real News', 'Misinformation'], rotation=0)\n",
    "plt.tight_layout()\n",
    "\n",
    "# Create directory if it doesn't exist\n",
    "os.makedirs('../results/visualizations', exist_ok=True)\n",
    "\n",
    "# Save the figure\n",
    "plt.savefig('../results/visualizations/label_distribution.png', dpi=300, bbox_inches='tight')\n",
    "plt.show()\n",
    "\n",
    "print(\"✓ Data exploration completed\")"
   ]
  },
  {
   "cell_type": "code",
   "execution_count": 4,
   "id": "d5065a0f-1c0d-48b4-af6e-3d6473eae0e4",
   "metadata": {},
   "outputs": [
    {
     "name": "stdout",
     "output_type": "stream",
     "text": [
      "✓ Data saved to ../data/processed/misinformation_dataset.csv\n",
      "\n",
      "=== SUMMARY ===\n",
      "✓ Dataset with 92394 samples ready\n",
      "✓ 4 features available\n",
      "✓ Ready for machine learning!\n"
     ]
    }
   ],
   "source": [
    "# Create the directory if it doesn't exist\n",
    "os.makedirs('../data/processed', exist_ok=True)\n",
    "\n",
    "# Save the data for the next notebook\n",
    "df.to_csv('../data/processed/misinformation_dataset.csv', index=False)\n",
    "print(\"✓ Data saved to ../data/processed/misinformation_dataset.csv\")\n",
    "\n",
    "print(\"\\n=== SUMMARY ===\")\n",
    "print(f\"✓ Dataset with {len(df)} samples ready\")\n",
    "print(f\"✓ {len(df.columns)} features available\")\n",
    "print(\"✓ Ready for machine learning!\")"
   ]
  }
 ],
 "metadata": {
  "kernelspec": {
   "display_name": "Python [conda env:base] *",
   "language": "python",
   "name": "conda-base-py"
  },
  "language_info": {
   "codemirror_mode": {
    "name": "ipython",
    "version": 3
   },
   "file_extension": ".py",
   "mimetype": "text/x-python",
   "name": "python",
   "nbconvert_exporter": "python",
   "pygments_lexer": "ipython3",
   "version": "3.11.11"
  }
 },
 "nbformat": 4,
 "nbformat_minor": 5
}
