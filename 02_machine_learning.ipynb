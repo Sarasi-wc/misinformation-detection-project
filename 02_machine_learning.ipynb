{
 "cells": [
  {
   "cell_type": "code",
   "execution_count": 1,
   "id": "ead58d63-986f-4ea9-990c-6a1fb3d16b73",
   "metadata": {},
   "outputs": [
    {
     "name": "stdout",
     "output_type": "stream",
     "text": [
      "✓ Machine learning libraries imported!\n"
     ]
    }
   ],
   "source": [
    "# Import machine learning libraries\n",
    "import pandas as pd\n",
    "import numpy as np\n",
    "from sklearn.model_selection import train_test_split\n",
    "from sklearn.feature_extraction.text import TfidfVectorizer\n",
    "from sklearn.ensemble import RandomForestClassifier\n",
    "from sklearn.linear_model import LogisticRegression\n",
    "from sklearn.svm import SVC\n",
    "from sklearn.metrics import accuracy_score, precision_score, recall_score, f1_score, roc_auc_score\n",
    "import matplotlib.pyplot as plt\n",
    "import seaborn as sns\n",
    "import time\n",
    "\n",
    "print(\"✓ Machine learning libraries imported!\")"
   ]
  },
  {
   "cell_type": "code",
   "execution_count": 2,
   "id": "5cb805cd-5b3e-4231-8fca-b953f6398872",
   "metadata": {},
   "outputs": [
    {
     "name": "stdout",
     "output_type": "stream",
     "text": [
      "✓ Loaded dataset: (92394, 4)\n",
      "✓ Text samples: 92394\n",
      "✓ Labels: 92394\n"
     ]
    }
   ],
   "source": [
    "# Load the data we saved from the previous notebook\n",
    "df = pd.read_csv('../data/processed/misinformation_dataset.csv')\n",
    "print(f\"✓ Loaded dataset: {df.shape}\")\n",
    "\n",
    "# Prepare the data for machine learning\n",
    "X_text = df['text']  # The text we want to analyze\n",
    "y = df['label']      # The labels (0=real, 1=misinformation)\n",
    "\n",
    "print(f\"✓ Text samples: {len(X_text)}\")\n",
    "print(f\"✓ Labels: {len(y)}\")"
   ]
  },
  {
   "cell_type": "code",
   "execution_count": 3,
   "id": "0514d6c5-5291-433b-9198-77a5e738b760",
   "metadata": {},
   "outputs": [
    {
     "name": "stdout",
     "output_type": "stream",
     "text": [
      "Converting text to numbers...\n",
      "✓ Feature matrix shape: (92394, 1000)\n",
      "✓ Text converted to numerical features\n",
      "✓ Training set: 73915 samples\n",
      "✓ Test set: 18479 samples\n"
     ]
    }
   ],
   "source": [
    "# Convert text to numbers using TF-IDF\n",
    "print(\"Converting text to numbers...\")\n",
    "vectorizer = TfidfVectorizer(max_features=1000, stop_words='english')\n",
    "X = vectorizer.fit_transform(X_text)\n",
    "\n",
    "print(f\"✓ Feature matrix shape: {X.shape}\")\n",
    "print(\"✓ Text converted to numerical features\")\n",
    "\n",
    "# Split data into training and testing sets\n",
    "X_train, X_test, y_train, y_test = train_test_split(X, y, test_size=0.2, random_state=42)\n",
    "print(f\"✓ Training set: {X_train.shape[0]} samples\")\n",
    "print(f\"✓ Test set: {X_test.shape[0]} samples\")"
   ]
  },
  {
   "cell_type": "code",
   "execution_count": 4,
   "id": "90b8cba4-1741-4670-b224-8d8f193b07f3",
   "metadata": {},
   "outputs": [
    {
     "name": "stdout",
     "output_type": "stream",
     "text": [
      "✓ Defined 3 models to compare\n"
     ]
    }
   ],
   "source": [
    "# Define different machine learning models to compare\n",
    "models = {\n",
    "    'Logistic Regression': LogisticRegression(random_state=42),\n",
    "    'Random Forest': RandomForestClassifier(n_estimators=50, random_state=42),\n",
    "    'SVM': SVC(kernel='rbf', probability=True, random_state=42)\n",
    "}\n",
    "\n",
    "print(f\"✓ Defined {len(models)} models to compare\")"
   ]
  },
  {
   "cell_type": "code",
   "execution_count": null,
   "id": "41331911-7358-4443-b53c-ba98d60d8a10",
   "metadata": {},
   "outputs": [
    {
     "name": "stdout",
     "output_type": "stream",
     "text": [
      "Training models...\n",
      "\n",
      "Training Logistic Regression...\n",
      "✓ Logistic Regression: Accuracy=0.960, F1-Score=0.961\n",
      "\n",
      "Training Random Forest...\n"
     ]
    }
   ],
   "source": [
    "# Train and test all models\n",
    "results = {}\n",
    "\n",
    "print(\"Training models...\")\n",
    "for name, model in models.items():\n",
    "    print(f\"\\nTraining {name}...\")\n",
    "    start_time = time.time()\n",
    "    \n",
    "    # Train the model\n",
    "    model.fit(X_train, y_train)\n",
    "    \n",
    "    # Make predictions\n",
    "    y_pred = model.predict(X_test)\n",
    "    \n",
    "    # Calculate performance metrics\n",
    "    accuracy = accuracy_score(y_test, y_pred)\n",
    "    precision = precision_score(y_test, y_pred, average='weighted')\n",
    "    recall = recall_score(y_test, y_pred, average='weighted')\n",
    "    f1 = f1_score(y_test, y_pred, average='weighted')\n",
    "    training_time = time.time() - start_time\n",
    "    \n",
    "    # Store results\n",
    "    results[name] = {\n",
    "        'accuracy': accuracy,\n",
    "        'precision': precision,\n",
    "        'recall': recall,\n",
    "        'f1_score': f1,\n",
    "        'training_time': training_time\n",
    "    }\n",
    "    \n",
    "    print(f\"✓ {name}: Accuracy={accuracy:.3f}, F1-Score={f1:.3f}\")\n",
    "\n",
    "print(\"\\n✓ All models trained successfully!\")"
   ]
  },
  {
   "cell_type": "code",
   "execution_count": null,
   "id": "4b46d7ef-3eb3-48fb-bca9-36da2a3f8b4a",
   "metadata": {},
   "outputs": [],
   "source": [
    "# Create a results table\n",
    "results_df = pd.DataFrame(results).T\n",
    "print(\"=== MODEL COMPARISON RESULTS ===\")\n",
    "print(results_df.round(4))\n",
    "\n",
    "# Find the best model\n",
    "best_model = results_df['f1_score'].idxmax()\n",
    "best_score = results_df.loc[best_model, 'f1_score']\n",
    "print(f\"\\n🏆 Best Model: {best_model}\")\n",
    "print(f\"🎯 Best F1-Score: {best_score:.4f}\")"
   ]
  },
  {
   "cell_type": "code",
   "execution_count": null,
   "id": "88d81411-f3c0-41df-adda-4af28c292ff2",
   "metadata": {},
   "outputs": [],
   "source": [
    "# Create visualizations\n",
    "fig, axes = plt.subplots(1, 2, figsize=(15, 5))\n",
    "\n",
    "# 1. Performance comparison chart\n",
    "results_df[['accuracy', 'precision', 'recall', 'f1_score']].plot(kind='bar', ax=axes[0])\n",
    "axes[0].set_title('Model Performance Comparison')\n",
    "axes[0].set_ylabel('Score')\n",
    "axes[0].legend()\n",
    "axes[0].tick_params(axis='x', rotation=45)\n",
    "\n",
    "# 2. Training time comparison\n",
    "results_df['training_time'].plot(kind='bar', ax=axes[1], color='orange')\n",
    "axes[1].set_title('Training Time Comparison')\n",
    "axes[1].set_ylabel('Time (seconds)')\n",
    "axes[1].tick_params(axis='x', rotation=45)\n",
    "\n",
    "plt.tight_layout()\n",
    "plt.savefig('../results/visualizations/model_comparison.png', dpi=300, bbox_inches='tight')\n",
    "plt.show()\n",
    "\n",
    "print(\"✓ Visualizations created and saved!\")"
   ]
  },
  {
   "cell_type": "code",
   "execution_count": null,
   "id": "de08ebd7-e97f-4f18-9a65-69f70c74b8f9",
   "metadata": {},
   "outputs": [],
   "source": [
    "# Save all results\n",
    "import json\n",
    "\n",
    "# Save results to JSON file\n",
    "with open('../results/model_results.json', 'w') as f:\n",
    "    # Convert numpy types to regular Python types for JSON\n",
    "    results_for_json = {}\n",
    "    for model_name, metrics in results.items():\n",
    "        results_for_json[model_name] = {k: float(v) for k, v in metrics.items()}\n",
    "    json.dump(results_for_json, f, indent=2)\n",
    "\n",
    "print(\"✓ Results saved to ../results/model_results.json\")\n",
    "\n",
    "# Save the results table as CSV\n",
    "results_df.to_csv('../results/model_comparison.csv')\n",
    "print(\"✓ Results table saved to ../results/model_comparison.csv\")\n",
    "\n",
    "print(\"\\n🎉 MACHINE LEARNING ANALYSIS COMPLETE!\")\n",
    "print(f\"📊 Best performing model: {best_model}\")\n",
    "print(f\"📁 All results saved to ../results/ folder\")"
   ]
  }
 ],
 "metadata": {
  "kernelspec": {
   "display_name": "Python [conda env:base] *",
   "language": "python",
   "name": "conda-base-py"
  },
  "language_info": {
   "codemirror_mode": {
    "name": "ipython",
    "version": 3
   },
   "file_extension": ".py",
   "mimetype": "text/x-python",
   "name": "python",
   "nbconvert_exporter": "python",
   "pygments_lexer": "ipython3",
   "version": "3.11.11"
  }
 },
 "nbformat": 4,
 "nbformat_minor": 5
}
