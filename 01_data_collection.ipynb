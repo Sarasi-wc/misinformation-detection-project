{
 "cells": [
  {
   "cell_type": "code",
   "execution_count": 1,
   "id": "c64eab57-735a-4f9a-bada-ed510ff9148c",
   "metadata": {
    "scrolled": true
   },
   "outputs": [
    {
     "name": "stdout",
     "output_type": "stream",
     "text": [
      "Notebook CWD: /Users/sarasiw/projects/msc/misinformation-detection-project\n",
      "Project root: /Users/sarasiw/projects/msc/misinformation-detection-project\n",
      "Results dir : /Users/sarasiw/projects/msc/misinformation-detection-project/results\n",
      "Visualizations dir: /Users/sarasiw/projects/msc/misinformation-detection-project/results/visualizations\n",
      "Artifacts dir: /Users/sarasiw/projects/msc/misinformation-detection-project/results/artifacts\n",
      "[autosave] matplotlib.pyplot.show patched -> /Users/sarasiw/projects/msc/misinformation-detection-project/results/visualizations\n"
     ]
    }
   ],
   "source": [
    "# Robust setup (define paths BEFORE using them)\n",
    "from pathlib import Path\n",
    "import os, sys, importlib\n",
    "\n",
    "# 1) Find project root (where notebook_utils.py lives)\n",
    "NB_DIR = Path.cwd()\n",
    "PROJECT_ROOT = None\n",
    "for r in [NB_DIR, NB_DIR.parent, NB_DIR.parent.parent]:\n",
    "    if (r / \"notebook_utils.py\").exists():\n",
    "        PROJECT_ROOT = r\n",
    "        break\n",
    "if PROJECT_ROOT is None:\n",
    "    PROJECT_ROOT = NB_DIR  # fallback\n",
    "\n",
    "# Make sure we can import notebook_utils from PROJECT_ROOT\n",
    "if str(PROJECT_ROOT) not in sys.path:\n",
    "    sys.path.insert(0, str(PROJECT_ROOT))\n",
    "\n",
    "# 2) Define result directories FIRST\n",
    "RESULTS_DIR   = (PROJECT_ROOT / \"results\").resolve()\n",
    "VIS_DIR       = (RESULTS_DIR / \"visualizations\").resolve()\n",
    "ARTIFACTS_DIR = (RESULTS_DIR / \"artifacts\").resolve()\n",
    "VIS_DIR.mkdir(parents=True, exist_ok=True)\n",
    "ARTIFACTS_DIR.mkdir(parents=True, exist_ok=True)\n",
    "os.makedirs((PROJECT_ROOT / \"data\" / \"processed\"), exist_ok=True)\n",
    "\n",
    "print(\"Notebook CWD:\", NB_DIR)\n",
    "print(\"Project root:\", PROJECT_ROOT)\n",
    "print(\"Results dir :\", RESULTS_DIR)\n",
    "print(\"Visualizations dir:\", VIS_DIR)\n",
    "print(\"Artifacts dir:\", ARTIFACTS_DIR)\n",
    "\n",
    "# 3) Import helper and enable autosave\n",
    "import notebook_utils as nbx\n",
    "nbx = importlib.reload(nbx)  # pick up any edits you made\n",
    "# (Either rely on defaults or pass the explicit dir)\n",
    "# nbx.enable_autosave_plots(prefix=\"01_data_collection\")  # if defaults set to results/*\n",
    "nbx.enable_autosave_plots(prefix=\"01_data_collection\", output_dir=VIS_DIR)\n",
    "\n",
    "# Optional: also set env vars so save_dataframe_preview uses results/artifacts by default\n",
    "os.environ[\"NBX_VIS_DIR\"] = str(VIS_DIR)\n",
    "os.environ[\"NBX_ARTIFACTS_DIR\"] = str(ARTIFACTS_DIR)\n"
   ]
  },
  {
   "cell_type": "code",
   "execution_count": 2,
   "id": "c1a6545d-d96f-47ac-8449-5e851c370f36",
   "metadata": {},
   "outputs": [
    {
     "name": "stdout",
     "output_type": "stream",
     "text": [
      "✓ Basic libraries imported successfully!\n"
     ]
    }
   ],
   "source": [
    "# Install and import basic libraries\n",
    "import os\n",
    "import pandas as pd\n",
    "import numpy as np\n",
    "import matplotlib.pyplot as plt\n",
    "import seaborn as sns\n",
    "import warnings\n",
    "\n",
    "warnings.filterwarnings('ignore')\n",
    "\n",
    "print(\"✓ Basic libraries imported successfully!\")\n"
   ]
  },
  {
   "cell_type": "code",
   "execution_count": 3,
   "id": "43c6bd06-d78f-4f03-9107-7c042a989992",
   "metadata": {},
   "outputs": [
    {
     "name": "stdout",
     "output_type": "stream",
     "text": [
      "✓ Real dataset loaded successfully!\n",
      "Dataset shape: (92394, 4)\n",
      "Columns: ['Unnamed: 0.1', 'Unnamed: 0', 'text', 'label']\n",
      "✓ Saved dataset head preview for the document\n"
     ]
    }
   ],
   "source": [
    "# Import necessary libraries\n",
    "import pandas as pd\n",
    "# import nbx  # Removing the nbx import since it's not available\n",
    "from pathlib import Path\n",
    "\n",
    "# # Define ARTIFACTS_DIR if it's not already defined\n",
    "# ARTIFACTS_DIR = Path(\"./artifacts\")\n",
    "# ARTIFACTS_DIR.mkdir(exist_ok=True)\n",
    "\n",
    "try:\n",
    "    from datasets import load_dataset\n",
    "    dataset = load_dataset(\"roupenminassian/twitter-misinformation\")\n",
    "    df = dataset['train'].to_pandas()\n",
    "    data_source = \"HF: roupenminassian/twitter-misinformation\"\n",
    "    print(\"✓ Real dataset loaded successfully!\")\n",
    "    print(f\"Dataset shape: {df.shape}\")\n",
    "    print(f\"Columns: {list(df.columns)}\")\n",
    "except Exception as e:\n",
    "    print(\"⚠️ Could not load HF dataset; creating sample dataset for demonstration...\")\n",
    "    print(f\"Reason: {e}\")\n",
    "    df = pd.DataFrame({\n",
    "        'text': [\n",
    "            \"Breaking: New miracle cure discovered by scientists\",\n",
    "            \"Weather forecast shows sunny skies tomorrow\",\n",
    "            \"FAKE: Aliens have landed in Nevada desert\",\n",
    "            \"Stock market closes up 2% on positive earnings\",\n",
    "            \"Unverified claim about celebrity scandal\",\n",
    "            \"Scientists confirm climate change effects\",\n",
    "            \"False information about vaccine side effects\",\n",
    "            \"Local sports team wins championship game\",\n",
    "            \"Misleading article about economic policies\",\n",
    "            \"Factual report on new technology breakthrough\"\n",
    "        ] * 50,\n",
    "        'label': [1, 0, 1, 0, 1, 0, 1, 0, 1, 0] * 50,\n",
    "        'source': ['twitter'] * 500\n",
    "    })\n",
    "    data_source = \"SYNTHETIC: generated in notebook\"\n",
    "    print(\"✓ Sample dataset created\")\n",
    "    print(f\"Dataset shape: {df.shape}\")\n",
    "\n",
    "# Save a preview of the dataframe to a CSV file instead of using nbx\n",
    "preview_csv = ARTIFACTS_DIR / \"dataset_head.csv\"\n",
    "df.head(20).to_csv(preview_csv, index=False)\n",
    "print(\"✓ Saved dataset head preview for the document\")"
   ]
  },
  {
   "cell_type": "code",
   "execution_count": 4,
   "id": "8ae74c45-428f-47da-9e33-4fdf7aa2ec78",
   "metadata": {},
   "outputs": [
    {
     "name": "stdout",
     "output_type": "stream",
     "text": [
      "Notebook CWD: /Users/sarasiw/projects/msc/misinformation-detection-project\n",
      "Project root: /Users/sarasiw/projects/msc/misinformation-detection-project\n",
      "Results dir : /Users/sarasiw/projects/msc/misinformation-detection-project/results\n",
      "Visualizations dir: /Users/sarasiw/projects/msc/misinformation-detection-project/results/visualizations\n",
      "Artifacts dir: /Users/sarasiw/projects/msc/misinformation-detection-project/results/artifacts\n"
     ]
    }
   ],
   "source": [
    "# Data exploration + visuals (writes ONLY to results/*)\n",
    "from pathlib import Path\n",
    "from IPython.display import display\n",
    "import os\n",
    "\n",
    "# --- Guards: ensure dirs & nbx exist even if setup cell wasn't run ---\n",
    "if 'RESULTS_DIR' not in globals() or 'VIS_DIR' not in globals() or 'ARTIFACTS_DIR' not in globals():\n",
    "    RESULTS_DIR = Path('results'); RESULTS_DIR.mkdir(exist_ok=True)\n",
    "    VIS_DIR = RESULTS_DIR / 'visualizations'; VIS_DIR.mkdir(parents=True, exist_ok=True)\n",
    "    ARTIFACTS_DIR = RESULTS_DIR / 'artifacts'; ARTIFACTS_DIR.mkdir(parents=True, exist_ok=True)\n",
    "\n",
    "# optional: avoid NameError if Cell 0 didn't define these\n",
    "print(\"Notebook CWD:\", globals().get('NB_DIR', Path.cwd()))\n",
    "print(\"Project root:\", globals().get('PROJECT_ROOT', Path.cwd()))\n",
    "print(\"Results dir :\", RESULTS_DIR)\n",
    "print(\"Visualizations dir:\", VIS_DIR)\n",
    "print(\"Artifacts dir:\", ARTIFACTS_DIR)"
   ]
  },
  {
   "cell_type": "code",
   "execution_count": 5,
   "id": "8e6c0490-676e-4833-931a-888f8e5b2a61",
   "metadata": {},
   "outputs": [
    {
     "name": "stdout",
     "output_type": "stream",
     "text": [
      "=== DATA EXPLORATION ===\n",
      "Total samples: 92394\n",
      "Columns: ['Unnamed: 0.1', 'Unnamed: 0', 'text', 'label']\n",
      "\n",
      "First 5 rows:\n"
     ]
    },
    {
     "data": {
      "text/html": [
       "<div>\n",
       "<style scoped>\n",
       "    .dataframe tbody tr th:only-of-type {\n",
       "        vertical-align: middle;\n",
       "    }\n",
       "\n",
       "    .dataframe tbody tr th {\n",
       "        vertical-align: top;\n",
       "    }\n",
       "\n",
       "    .dataframe thead th {\n",
       "        text-align: right;\n",
       "    }\n",
       "</style>\n",
       "<table border=\"1\" class=\"dataframe\">\n",
       "  <thead>\n",
       "    <tr style=\"text-align: right;\">\n",
       "      <th></th>\n",
       "      <th>Unnamed: 0.1</th>\n",
       "      <th>Unnamed: 0</th>\n",
       "      <th>text</th>\n",
       "      <th>label</th>\n",
       "    </tr>\n",
       "  </thead>\n",
       "  <tbody>\n",
       "    <tr>\n",
       "      <th>0</th>\n",
       "      <td>34366</td>\n",
       "      <td>34366</td>\n",
       "      <td>Local Charlotte, NC news station WSOCTV is rep...</td>\n",
       "      <td>1</td>\n",
       "    </tr>\n",
       "    <tr>\n",
       "      <th>1</th>\n",
       "      <td>41656</td>\n",
       "      <td>41656</td>\n",
       "      <td>The tsunami has started President Obama s Keny...</td>\n",
       "      <td>1</td>\n",
       "    </tr>\n",
       "    <tr>\n",
       "      <th>2</th>\n",
       "      <td>26726</td>\n",
       "      <td>26726</td>\n",
       "      <td>The only reality show Donald Trump should have...</td>\n",
       "      <td>1</td>\n",
       "    </tr>\n",
       "    <tr>\n",
       "      <th>3</th>\n",
       "      <td>81585</td>\n",
       "      <td>81585</td>\n",
       "      <td>No Food, No FEMA: Hurricane Michael’s Survivor...</td>\n",
       "      <td>0</td>\n",
       "    </tr>\n",
       "    <tr>\n",
       "      <th>4</th>\n",
       "      <td>4016</td>\n",
       "      <td>4016</td>\n",
       "      <td>WASHINGTON (Reuters) - Here are some of the hi...</td>\n",
       "      <td>0</td>\n",
       "    </tr>\n",
       "  </tbody>\n",
       "</table>\n",
       "</div>"
      ],
      "text/plain": [
       "   Unnamed: 0.1  Unnamed: 0  \\\n",
       "0         34366       34366   \n",
       "1         41656       41656   \n",
       "2         26726       26726   \n",
       "3         81585       81585   \n",
       "4          4016        4016   \n",
       "\n",
       "                                                text  label  \n",
       "0  Local Charlotte, NC news station WSOCTV is rep...      1  \n",
       "1  The tsunami has started President Obama s Keny...      1  \n",
       "2  The only reality show Donald Trump should have...      1  \n",
       "3  No Food, No FEMA: Hurricane Michael’s Survivor...      0  \n",
       "4  WASHINGTON (Reuters) - Here are some of the hi...      0  "
      ]
     },
     "metadata": {},
     "output_type": "display_data"
    },
    {
     "name": "stdout",
     "output_type": "stream",
     "text": [
      "\n",
      "Label distribution:\n",
      "label\n",
      "0    60309\n",
      "1    32085\n",
      "Name: count, dtype: int64\n"
     ]
    }
   ],
   "source": [
    "# If notebook_utils is available, use it; else minimal fallback\n",
    "if 'nbx' not in globals():\n",
    "    try:\n",
    "        import importlib, notebook_utils as nbx\n",
    "        nbx = importlib.reload(nbx)\n",
    "    except Exception:\n",
    "        class _NBX:\n",
    "            def save_dataframe_preview(self, df, name, n=20, output_dir=None):\n",
    "                out_dir = (output_dir or ARTIFACTS_DIR)\n",
    "                out_dir.mkdir(parents=True, exist_ok=True)\n",
    "                out = out_dir / f\"{name}_preview.csv\"\n",
    "                df.head(n).to_csv(out, index=False)\n",
    "                print(f\"[saved table] {out.name}\")\n",
    "                return str(out)\n",
    "        nbx = _NBX()\n",
    "\n",
    "\n",
    "\n",
    "# --- Exploration & visuals ---\n",
    "print(\"=== DATA EXPLORATION ===\")\n",
    "print(f\"Total samples: {len(df)}\")\n",
    "print(f\"Columns: {list(df.columns)}\")\n",
    "\n",
    "print(\"\\nFirst 5 rows:\")\n",
    "display(df.head())\n",
    "\n",
    "print(\"\\nLabel distribution:\")\n",
    "print(df['label'].value_counts())"
   ]
  },
  {
   "cell_type": "code",
   "execution_count": 6,
   "id": "c980fe03-d337-446c-a251-5de0b4578bdd",
   "metadata": {},
   "outputs": [
    {
     "name": "stdout",
     "output_type": "stream",
     "text": [
      "[saved plot] /Users/sarasiw/projects/msc/misinformation-detection-project/results/visualizations/49_01_data_collection_plot_20250820-031106.png\n"
     ]
    },
    {
     "data": {
      "image/png": "[encoded data removed]",
      "text/plain": [
       "<Figure size 800x500 with 1 Axes>"
      ]
     },
     "metadata": {},
     "output_type": "display_data"
    }
   ],
   "source": [
    "# 4.1 Label distribution (bar)\n",
    "plt.figure(figsize=(8, 5))\n",
    "df['label'].value_counts().sort_index().plot(kind='bar')\n",
    "plt.title('Distribution of Real vs Misinformation')\n",
    "plt.xlabel('Label (0=Real, 1=Misinformation)')\n",
    "plt.ylabel('Count')\n",
    "plt.xticks([0, 1], ['Real News', 'Misinformation'], rotation=0)\n",
    "plt.tight_layout()\n",
    "\n",
    "file_path = VIS_DIR / '01_label_distribution.png'\n",
    "plt.savefig(VIS_DIR / '01_label_distribution.png', dpi=300, bbox_inches='tight')\n",
    "\n",
    "plt.show()  # if autosave is enabled, this will also save into results/visualizations"
   ]
  },
  {
   "cell_type": "code",
   "execution_count": 7,
   "id": "e28ee7d8-c7a5-46d5-8fa6-6e47cbc08873",
   "metadata": {},
   "outputs": [
    {
     "name": "stdout",
     "output_type": "stream",
     "text": [
      "No missing values detected.\n"
     ]
    }
   ],
   "source": [
    "# 4.2 Missing values profile (bar)\n",
    "na_counts = df.isna().sum().sort_values(ascending=False)\n",
    "na_df = na_counts[na_counts > 0].to_frame(name='missing_count').reset_index().rename(columns={'index': 'column'})\n",
    "if not na_df.empty:\n",
    "    plt.figure(figsize=(9, 5))\n",
    "    plt.bar(na_df['column'], na_df['missing_count'])\n",
    "    plt.title('Missing Values per Column')\n",
    "    plt.xlabel('Column'); plt.ylabel('Missing Count')\n",
    "    plt.xticks(rotation=45, ha='right')\n",
    "    plt.tight_layout()\n",
    "    plt.savefig(VIS_DIR / '02_missing_values.png', dpi=300, bbox_inches='tight')\n",
    "    plt.show()\n",
    "\n",
    "    # SAVE DIRECTLY INTO results/artifacts  ⬅️ key change\n",
    "    na_csv = nbx.save_dataframe_preview(na_df, \"missing_values\",\n",
    "                                        n=min(50, len(na_df)), output_dir=ARTIFACTS_DIR)\n",
    "else:\n",
    "    print(\"No missing values detected.\")"
   ]
  },
  {
   "cell_type": "code",
   "execution_count": 8,
   "id": "4481454f-6a90-44aa-863f-1d39e2afb5c1",
   "metadata": {},
   "outputs": [
    {
     "data": {
      "text/html": [
       "<div>\n",
       "<style scoped>\n",
       "    .dataframe tbody tr th:only-of-type {\n",
       "        vertical-align: middle;\n",
       "    }\n",
       "\n",
       "    .dataframe tbody tr th {\n",
       "        vertical-align: top;\n",
       "    }\n",
       "\n",
       "    .dataframe thead th {\n",
       "        text-align: right;\n",
       "    }\n",
       "</style>\n",
       "<table border=\"1\" class=\"dataframe\">\n",
       "  <thead>\n",
       "    <tr style=\"text-align: right;\">\n",
       "      <th></th>\n",
       "      <th>metric</th>\n",
       "      <th>value</th>\n",
       "    </tr>\n",
       "  </thead>\n",
       "  <tbody>\n",
       "    <tr>\n",
       "      <th>0</th>\n",
       "      <td>rows_total</td>\n",
       "      <td>92394</td>\n",
       "    </tr>\n",
       "    <tr>\n",
       "      <th>1</th>\n",
       "      <td>duplicate_rows_by_text</td>\n",
       "      <td>14195</td>\n",
       "    </tr>\n",
       "  </tbody>\n",
       "</table>\n",
       "</div>"
      ],
      "text/plain": [
       "                   metric  value\n",
       "0              rows_total  92394\n",
       "1  duplicate_rows_by_text  14195"
      ]
     },
     "metadata": {},
     "output_type": "display_data"
    },
    {
     "name": "stdout",
     "output_type": "stream",
     "text": [
      "[saved table] /Users/sarasiw/projects/msc/misinformation-detection-project/results/artifacts/duplicate_summary_preview.csv\n"
     ]
    }
   ],
   "source": [
    "\n",
    "# 4.3 Duplicate summary (by text)\n",
    "dupe_count = df.duplicated(subset=['text']).sum() if 'text' in df.columns else df.duplicated().sum()\n",
    "dupe_summary = pd.DataFrame({\n",
    "    \"metric\": [\"rows_total\", \"duplicate_rows_by_text\" if 'text' in df.columns else \"duplicate_rows\"],\n",
    "    \"value\": [len(df), dupe_count]\n",
    "})\n",
    "display(dupe_summary)\n",
    "\n",
    "# SAVE DIRECTLY INTO results/artifacts  ⬅️ key change\n",
    "dupe_csv = nbx.save_dataframe_preview(dupe_summary, \"duplicate_summary\",\n",
    "                                      n=10, output_dir=ARTIFACTS_DIR)"
   ]
  },
  {
   "cell_type": "code",
   "execution_count": 9,
   "id": "98884c40-2881-487e-ab4f-465679e990d6",
   "metadata": {},
   "outputs": [
    {
     "name": "stdout",
     "output_type": "stream",
     "text": [
      "[saved plot] /Users/sarasiw/projects/msc/misinformation-detection-project/results/visualizations/50_01_data_collection_plot_20250820-031108.png\n"
     ]
    },
    {
     "data": {
      "image/png": "[encoded data removed]",
      "text/plain": [
       "<Figure size 800x500 with 1 Axes>"
      ]
     },
     "metadata": {},
     "output_type": "display_data"
    },
    {
     "name": "stdout",
     "output_type": "stream",
     "text": [
      "✓ Data exploration completed & figures saved\n"
     ]
    }
   ],
   "source": [
    "\n",
    "\n",
    "# 4.4 Text length distribution (nice for 01 screenshots)\n",
    "if 'text' in df.columns:\n",
    "    lengths = df['text'].astype(str).str.len()\n",
    "    plt.figure(figsize=(8, 5))\n",
    "    plt.hist(lengths, bins=30)\n",
    "    plt.title('Text Length Distribution (characters)')\n",
    "    plt.xlabel('Length'); plt.ylabel('Frequency')\n",
    "    plt.tight_layout()\n",
    "    plt.savefig(VIS_DIR / '03_text_length_distribution.png', dpi=300, bbox_inches='tight')\n",
    "    plt.show()\n",
    "\n",
    "print(\"✓ Data exploration completed & figures saved\")\n"
   ]
  },
  {
   "cell_type": "code",
   "execution_count": 10,
   "id": "b626cfab-bcea-4c39-b0d4-29898cf49d2f",
   "metadata": {},
   "outputs": [
    {
     "name": "stdout",
     "output_type": "stream",
     "text": [
      "Paths are ready:\n",
      " - Visualizations: /Users/sarasiw/projects/msc/misinformation-detection-project/results/visualizations\n",
      " - Artifacts     : /Users/sarasiw/projects/msc/misinformation-detection-project/results/artifacts\n"
     ]
    }
   ],
   "source": [
    "# Paths confirmation (already created in Cell 0)\n",
    "print(\"Paths are ready:\")\n",
    "print(\" - Visualizations:\", VIS_DIR)\n",
    "print(\" - Artifacts     :\", ARTIFACTS_DIR)\n"
   ]
  },
  {
   "cell_type": "code",
   "execution_count": 11,
   "id": "d5065a0f-1c0d-48b4-af6e-3d6473eae0e4",
   "metadata": {},
   "outputs": [
    {
     "name": "stdout",
     "output_type": "stream",
     "text": [
      "De-duplicated by 'text': 92394 -> 78199 rows\n",
      "✓ Data saved to ../data/processed/misinformation_dataset.csv\n"
     ]
    },
    {
     "data": {
      "text/html": [
       "<div>\n",
       "<style scoped>\n",
       "    .dataframe tbody tr th:only-of-type {\n",
       "        vertical-align: middle;\n",
       "    }\n",
       "\n",
       "    .dataframe tbody tr th {\n",
       "        vertical-align: top;\n",
       "    }\n",
       "\n",
       "    .dataframe thead th {\n",
       "        text-align: right;\n",
       "    }\n",
       "</style>\n",
       "<table border=\"1\" class=\"dataframe\">\n",
       "  <thead>\n",
       "    <tr style=\"text-align: right;\">\n",
       "      <th></th>\n",
       "      <th>data_source</th>\n",
       "      <th>rows</th>\n",
       "      <th>columns</th>\n",
       "    </tr>\n",
       "  </thead>\n",
       "  <tbody>\n",
       "    <tr>\n",
       "      <th>0</th>\n",
       "      <td>HF: roupenminassian/twitter-misinformation</td>\n",
       "      <td>78199</td>\n",
       "      <td>4</td>\n",
       "    </tr>\n",
       "  </tbody>\n",
       "</table>\n",
       "</div>"
      ],
      "text/plain": [
       "                                  data_source   rows  columns\n",
       "0  HF: roupenminassian/twitter-misinformation  78199        4"
      ]
     },
     "metadata": {},
     "output_type": "display_data"
    },
    {
     "name": "stdout",
     "output_type": "stream",
     "text": [
      "[saved table] results/artifacts/dataset_summary_preview.csv\n",
      "[skip] already at /Users/sarasiw/projects/msc/misinformation-detection-project/results/artifacts/dataset_summary_preview.csv\n"
     ]
    }
   ],
   "source": [
    "# Save dataset for the next notebook (fixed/robust)\n",
    "from pathlib import Path\n",
    "from IPython.display import display\n",
    "from shutil import copy2\n",
    "\n",
    "# --- Guards: ensure dirs & nbx exist even if setup cell wasn't run ---\n",
    "if 'ARTIFACTS_DIR' not in globals():\n",
    "    RESULTS_DIR = Path('results'); RESULTS_DIR.mkdir(exist_ok=True)\n",
    "    ARTIFACTS_DIR = RESULTS_DIR / 'artifacts'; ARTIFACTS_DIR.mkdir(parents=True, exist_ok=True)\n",
    "\n",
    "if 'nbx' not in globals():\n",
    "    # Minimal fallback so the cell still works without notebook_utils\n",
    "    class _NBX:\n",
    "        def save_dataframe_preview(self, df, name, n=20):\n",
    "            ARTIFACTS_DIR.mkdir(parents=True, exist_ok=True)\n",
    "            out = ARTIFACTS_DIR / f\"{name}_preview.csv\"\n",
    "            df.head(n).to_csv(out, index=False)\n",
    "            print(f\"[saved table] {out}\")\n",
    "            return str(out)\n",
    "    nbx = _NBX()\n",
    "\n",
    "# --- Helper to avoid SameFileError when src == dst ---\n",
    "def safe_copy_to_artifacts(src_path, artifacts_dir=ARTIFACTS_DIR):\n",
    "    src = Path(src_path)\n",
    "    dst = Path(artifacts_dir) / src.name\n",
    "    dst.parent.mkdir(parents=True, exist_ok=True)\n",
    "    try:\n",
    "        if str(src.resolve()) != str(dst.resolve()):\n",
    "            copy2(src, dst)\n",
    "            print(f\"[copied] {src} -> {dst}\")\n",
    "        else:\n",
    "            print(f\"[skip] already at {dst}\")\n",
    "    except FileNotFoundError:\n",
    "        print(f\"[warn] source not found: {src}\")\n",
    "\n",
    "# --- Optional: de-duplicate by 'text' to reduce leakage ---\n",
    "if 'text' in df.columns:\n",
    "    before = len(df)\n",
    "    df = df.drop_duplicates(subset=['text']).reset_index(drop=True)\n",
    "    after = len(df)\n",
    "    print(f\"De-duplicated by 'text': {before} -> {after} rows\")\n",
    "\n",
    "# --- Save dataset for the next notebook ---\n",
    "out_path = Path('../data/processed/misinformation_dataset.csv')\n",
    "out_path.parent.mkdir(parents=True, exist_ok=True)\n",
    "df.to_csv(out_path, index=False)\n",
    "print(f\"✓ Data saved to {out_path}\")\n",
    "\n",
    "# --- Summary table for the document ---\n",
    "data_source_val = globals().get('data_source', 'unspecified')\n",
    "summary_df = pd.DataFrame({\n",
    "    \"data_source\": [data_source_val],\n",
    "    \"rows\": [len(df)],\n",
    "    \"columns\": [len(df.columns)]\n",
    "})\n",
    "display(summary_df)\n",
    "sum_csv = nbx.save_dataframe_preview(summary_df, \"dataset_summary\", n=5)\n",
    "safe_copy_to_artifacts(sum_csv)\n",
    "\n"
   ]
  },
  {
   "cell_type": "code",
   "execution_count": 12,
   "id": "33e75f48-0aa1-4b9e-9422-33193b949123",
   "metadata": {},
   "outputs": [
    {
     "name": "stdout",
     "output_type": "stream",
     "text": [
      "\n",
      "=== SUMMARY ===\n",
      "✓ Dataset with 78199 samples ready\n",
      "✓ 4 features available\n",
      "✓ Ready for machine learning!\n"
     ]
    }
   ],
   "source": [
    "print(\"\\n=== SUMMARY ===\")\n",
    "print(f\"✓ Dataset with {len(df)} samples ready\")\n",
    "print(f\"✓ {len(df.columns)} features available\")\n",
    "print(\"✓ Ready for machine learning!\")"
   ]
  }
 ],
 "metadata": {
  "kernelspec": {
   "display_name": "Python [conda env:base] *",
   "language": "python",
   "name": "conda-base-py"
  },
  "language_info": {
   "codemirror_mode": {
    "name": "ipython",
    "version": 3
   },
   "file_extension": ".py",
   "mimetype": "text/x-python",
   "name": "python",
   "nbconvert_exporter": "python",
   "pygments_lexer": "ipython3",
   "version": "3.11.11"
  }
 },
 "nbformat": 4,
 "nbformat_minor": 5
}
